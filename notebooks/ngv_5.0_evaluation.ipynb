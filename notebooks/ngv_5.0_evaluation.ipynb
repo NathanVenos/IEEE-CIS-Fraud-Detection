{
 "cells": [
  {
   "cell_type": "markdown",
   "metadata": {},
   "source": [
    "# Evaluation Notebook"
   ]
  },
  {
   "cell_type": "markdown",
   "metadata": {},
   "source": [
    "## Evaluate Results"
   ]
  },
  {
   "cell_type": "markdown",
   "metadata": {},
   "source": [
    "Previous evaluation steps dealt with factors such as the accuracy and generality of the model. This step assesses the degree to which the model meets the business objectives and seeks to determine if there is some business reason why this model is deficient. \n",
    "\n",
    "Moreover, evaluation also assesses other data mining results generated. Data mining results involve models that are necessarily related to the original business objectives and all other findings that are not necessarily related to the original business objectives, but might also unveil additional challenges, information, or hints for future directions."
   ]
  },
  {
   "cell_type": "markdown",
   "metadata": {},
   "source": [
    "### Outputs"
   ]
  },
  {
   "cell_type": "markdown",
   "metadata": {},
   "source": [
    "<b>1. Assessment of data mining results with respect to business success criteria</b>\n",
    "- Summarize assessment results in terms of business success criteria, including a final statement regarding whether the project already meets the initial business objectives.\n",
    "\n",
    "<b>2. Approved models</b>\n",
    "- After assessing models with respect to business success criteria, the generated models that meet the selected criteria become the approved models."
   ]
  },
  {
   "cell_type": "markdown",
   "metadata": {},
   "source": [
    "## Review Process"
   ]
  },
  {
   "cell_type": "markdown",
   "metadata": {},
   "source": [
    "At this point, the resulting models appear to be satisfactory and to satisfy business needs. It is now appropriate to do a more thorough review of the data mining engagement in order to determine if there is any important factor or task that has somehow been overlooked. This review also covers quality assurance issues—for example: Did we correctly build the model? Did we use only the attributes that we are allowed to use and that are available for future analyses?"
   ]
  },
  {
   "cell_type": "markdown",
   "metadata": {},
   "source": [
    "### Outputs"
   ]
  },
  {
   "cell_type": "markdown",
   "metadata": {},
   "source": [
    "<b>3. Review of Process</b>\n",
    "- Summarize the process review and highlight activities that have been missed and those that should be repeated."
   ]
  },
  {
   "cell_type": "markdown",
   "metadata": {},
   "source": [
    "## Determine Next Steps"
   ]
  },
  {
   "cell_type": "markdown",
   "metadata": {},
   "source": [
    "Depending on the results of the assessment and the process review, the project team decides how to proceed. The team decides whether to finish this project and move on to deployment, initiate further iterations, or set up new data mining projects. This task includes analyses of remaining resources and budget, which may influence the decisions."
   ]
  },
  {
   "cell_type": "markdown",
   "metadata": {},
   "source": [
    "### Outputs"
   ]
  },
  {
   "cell_type": "markdown",
   "metadata": {},
   "source": [
    "<b>4. List of possible actions</b>\n",
    "- List the potential further actions, along with the reasons for and against each option.\n",
    "\n",
    "<b>5. Decision</b>\n",
    "- Describe the decision as to how to proceed, along with the rationale."
   ]
  },
  {
   "cell_type": "markdown",
   "metadata": {},
   "source": [
    "## Code Base Update"
   ]
  },
  {
   "cell_type": "markdown",
   "metadata": {},
   "source": [
    "### Outputs"
   ]
  },
  {
   "cell_type": "markdown",
   "metadata": {},
   "source": [
    "<b>6. Update code base</b>\n",
    "- Update code base with any new functions/classes which haven't been implemented yet. I.e. a new preprocessing function or a new visualization technique\n",
    "- Suggest further improvements to functions/classes within code base"
   ]
  },
  {
   "cell_type": "markdown",
   "metadata": {},
   "source": [
    "## Final Model"
   ]
  },
  {
   "cell_type": "code",
   "execution_count": 1,
   "metadata": {
    "ExecuteTime": {
     "end_time": "2020-12-16T18:27:20.469582Z",
     "start_time": "2020-12-16T18:27:19.211078Z"
    }
   },
   "outputs": [],
   "source": [
    "import os\n",
    "import sys\n",
    "import numpy as np\n",
    "import pandas as pd\n",
    "import lightgbm as lgb\n",
    "import joblib\n",
    "from sklearn.model_selection import train_test_split\n",
    "src_path = os.path.abspath('../src/')\n",
    "sys.path.append(src_path)\n",
    "from data_modeling import *\n",
    "from data_cleaning import *\n",
    "%load_ext autoreload\n",
    "%autoreload 2\n",
    "pd.set_option('display.max_rows', 500)\n",
    "pd.set_option('display.max_columns', 500)\n",
    "SEED = 123"
   ]
  },
  {
   "cell_type": "markdown",
   "metadata": {},
   "source": [
    "### Import and Clean the Data"
   ]
  },
  {
   "cell_type": "code",
   "execution_count": 2,
   "metadata": {
    "ExecuteTime": {
     "end_time": "2020-12-16T18:28:15.006369Z",
     "start_time": "2020-12-16T18:27:20.471565Z"
    }
   },
   "outputs": [
    {
     "name": "stderr",
     "output_type": "stream",
     "text": [
      "C:\\tools\\Anaconda3\\lib\\site-packages\\IPython\\core\\interactiveshell.py:3338: DtypeWarning: Columns (2) have mixed types.Specify dtype option on import or set low_memory=False.\n",
      "  if (await self.run_code(code, result,  async_=asy)):\n"
     ]
    }
   ],
   "source": [
    "# Import and clean the data\n",
    "tr_trans_path = '../data/raw/new/train_transaction.csv'\n",
    "tr_id_path = '../data/raw/new/train_identity.csv'\n",
    "ts_trans_path = '../data/raw/new/test_transaction.csv'\n",
    "ts_id_path = '../data/raw/new/test_identity.csv'\n",
    "train_df, test_df = ngv_train_test_data_processor(tr_trans_path, tr_id_path,\n",
    "                                                  ts_trans_path, ts_id_path)\n",
    "# train_trans_df, train_id_df, test_trans_df, test_id_df = ngv_train_test_data_processor(tr_trans_path, tr_id_path,\n",
    "#                                                   ts_trans_path, ts_id_path)"
   ]
  },
  {
   "cell_type": "code",
   "execution_count": 3,
   "metadata": {
    "ExecuteTime": {
     "end_time": "2020-12-16T18:28:15.060225Z",
     "start_time": "2020-12-16T18:28:15.010326Z"
    }
   },
   "outputs": [],
   "source": [
    "# temp_ts = pd.read_csv(ts_id_path)\n",
    "# temp_tr = pd.read_csv(tr_id_path)"
   ]
  },
  {
   "cell_type": "code",
   "execution_count": 4,
   "metadata": {
    "ExecuteTime": {
     "end_time": "2020-12-16T18:28:15.110451Z",
     "start_time": "2020-12-16T18:28:15.061189Z"
    }
   },
   "outputs": [],
   "source": [
    "# temp_ts['variable'] = temp_ts['variable'].apply(lambda x: x.replace(\"-\", \"_\"))"
   ]
  },
  {
   "cell_type": "code",
   "execution_count": 5,
   "metadata": {
    "ExecuteTime": {
     "end_time": "2020-12-16T18:28:15.159460Z",
     "start_time": "2020-12-16T18:28:15.111401Z"
    }
   },
   "outputs": [],
   "source": [
    "# temp_tr.variable.value_counts()"
   ]
  },
  {
   "cell_type": "code",
   "execution_count": 6,
   "metadata": {
    "ExecuteTime": {
     "end_time": "2020-12-16T18:28:15.209476Z",
     "start_time": "2020-12-16T18:28:15.161423Z"
    }
   },
   "outputs": [],
   "source": [
    "# temp[['TransactionID', 'variable', 'value']].head()"
   ]
  },
  {
   "cell_type": "code",
   "execution_count": 7,
   "metadata": {
    "ExecuteTime": {
     "end_time": "2020-12-16T18:28:15.259512Z",
     "start_time": "2020-12-16T18:28:15.210439Z"
    }
   },
   "outputs": [],
   "source": [
    "# temp_ts.to_csv(ts_id_path, index=False)"
   ]
  },
  {
   "cell_type": "code",
   "execution_count": 8,
   "metadata": {
    "ExecuteTime": {
     "end_time": "2020-12-16T18:28:15.306841Z",
     "start_time": "2020-12-16T18:28:15.260504Z"
    }
   },
   "outputs": [],
   "source": [
    "# temp.shape"
   ]
  },
  {
   "cell_type": "code",
   "execution_count": 9,
   "metadata": {
    "ExecuteTime": {
     "end_time": "2020-12-16T18:28:15.355209Z",
     "start_time": "2020-12-16T18:28:15.307831Z"
    }
   },
   "outputs": [],
   "source": [
    "# sum(temp.index == temp['Unnamed: 0'])"
   ]
  },
  {
   "cell_type": "code",
   "execution_count": 10,
   "metadata": {
    "ExecuteTime": {
     "end_time": "2020-12-16T18:28:15.403878Z",
     "start_time": "2020-12-16T18:28:15.356143Z"
    }
   },
   "outputs": [],
   "source": [
    "# train_id_df.head()"
   ]
  },
  {
   "cell_type": "code",
   "execution_count": 11,
   "metadata": {
    "ExecuteTime": {
     "end_time": "2020-12-16T18:28:15.453022Z",
     "start_time": "2020-12-16T18:28:15.404840Z"
    }
   },
   "outputs": [],
   "source": [
    "# test_id_df.head()"
   ]
  },
  {
   "cell_type": "code",
   "execution_count": 12,
   "metadata": {
    "ExecuteTime": {
     "end_time": "2020-12-16T18:28:15.501968Z",
     "start_time": "2020-12-16T18:28:15.454020Z"
    }
   },
   "outputs": [],
   "source": [
    "# print(train_trans_df.loc[train_trans_df.index.isin(train_id_df.index)].shape[0])\n",
    "# print(train_trans_df.loc[train_trans_df.index.isin(test_id_df.index)].shape[0])\n",
    "# print(test_trans_df.loc[test_trans_df.index.isin(train_id_df.index)].shape[0])\n",
    "# print(test_trans_df.loc[test_trans_df.index.isin(test_id_df.index)].shape[0])"
   ]
  },
  {
   "cell_type": "code",
   "execution_count": 13,
   "metadata": {
    "ExecuteTime": {
     "end_time": "2020-12-16T18:28:15.552968Z",
     "start_time": "2020-12-16T18:28:15.502894Z"
    }
   },
   "outputs": [
    {
     "name": "stdout",
     "output_type": "stream",
     "text": [
      "(590540, 441)\n",
      "(506691, 440)\n"
     ]
    }
   ],
   "source": [
    "# The difference in number of columns is because of the target in the training data only\n",
    "print(train_df.shape)\n",
    "print(test_df.shape)"
   ]
  },
  {
   "cell_type": "markdown",
   "metadata": {},
   "source": [
    "### Encode Categorical Data"
   ]
  },
  {
   "cell_type": "code",
   "execution_count": 14,
   "metadata": {
    "ExecuteTime": {
     "end_time": "2020-12-16T18:28:15.607821Z",
     "start_time": "2020-12-16T18:28:15.553965Z"
    }
   },
   "outputs": [],
   "source": [
    "num_cats = ['card1', 'card2', 'card3', 'card5',\n",
    "            'addr1', 'addr2', 'id_13', 'id_14',\n",
    "            'id_17', 'id_18', 'id_19', 'id_20',\n",
    "            'id_21', 'id_22', 'id_24', 'id_25',\n",
    "            'id_26', 'id_32', 'id_33_prod', 'id_33_ratio']\n",
    "freq_cats = ['DeviceInfo', 'DeviceInfo_trunc',\n",
    "             'DeviceInfo_alpha_trunc', 'id_30',\n",
    "             'id_31', 'id_31_bin_many', 'id_33']\n",
    "label_cats = ['productcd', 'card4', 'card6', 'm4',\n",
    "              'p_emaildomain', 'r_emaildomain',\n",
    "              'id_15', 'id_23', 'id_30_name',\n",
    "              'id_31_bin_few']\n",
    "cat_feats = num_cats + freq_cats + label_cats"
   ]
  },
  {
   "cell_type": "code",
   "execution_count": 15,
   "metadata": {
    "ExecuteTime": {
     "end_time": "2020-12-16T18:28:21.535223Z",
     "start_time": "2020-12-16T18:28:15.608819Z"
    }
   },
   "outputs": [],
   "source": [
    "# had to make a custom encoder to properly handle NaNs\n",
    "encoder_map = ngv_ord_encode_fit(cat_feats, train_df)\n",
    "# encode_na = True would make NaNs their own category vs. just being ignored as NaNs\n",
    "train_df = ngv_ord_encode_transform(encoder_map, train_df, encode_na=False)\n",
    "test_df = ngv_ord_encode_transform(encoder_map, test_df, encode_na=False)"
   ]
  },
  {
   "cell_type": "markdown",
   "metadata": {},
   "source": [
    "### Downcast Number Data Types"
   ]
  },
  {
   "cell_type": "code",
   "execution_count": 16,
   "metadata": {
    "ExecuteTime": {
     "end_time": "2020-12-16T18:32:53.969215Z",
     "start_time": "2020-12-16T18:28:21.536065Z"
    }
   },
   "outputs": [],
   "source": [
    "# reducing memory and downcasting numerical datatypes\n",
    "# this takes a long time\n",
    "for col in train_df.columns:\n",
    "    train_df[col] = ngv_float_to_int(train_df[col])\n",
    "    \n",
    "for col in test_df.columns:\n",
    "    test_df[col] = ngv_float_to_int(test_df[col])"
   ]
  },
  {
   "cell_type": "code",
   "execution_count": 17,
   "metadata": {
    "ExecuteTime": {
     "end_time": "2020-12-16T18:32:54.023643Z",
     "start_time": "2020-12-16T18:32:53.970625Z"
    }
   },
   "outputs": [
    {
     "name": "stdout",
     "output_type": "stream",
     "text": [
      "(590540, 441)\n",
      "(506691, 440)\n"
     ]
    }
   ],
   "source": [
    "print(train_df.shape)\n",
    "print(test_df.shape)"
   ]
  },
  {
   "cell_type": "code",
   "execution_count": 18,
   "metadata": {
    "ExecuteTime": {
     "end_time": "2020-12-16T18:32:54.074289Z",
     "start_time": "2020-12-16T18:32:54.024624Z"
    }
   },
   "outputs": [],
   "source": [
    "# test_df.DeviceInfo_trunc.value_counts()"
   ]
  },
  {
   "cell_type": "code",
   "execution_count": 19,
   "metadata": {
    "ExecuteTime": {
     "end_time": "2020-12-16T18:32:54.125130Z",
     "start_time": "2020-12-16T18:32:54.075112Z"
    }
   },
   "outputs": [],
   "source": [
    "# temp = pd.read_csv('../data/raw/test_identity.csv', low_memory=False)"
   ]
  },
  {
   "cell_type": "code",
   "execution_count": 20,
   "metadata": {
    "ExecuteTime": {
     "end_time": "2020-12-16T18:32:54.175610Z",
     "start_time": "2020-12-16T18:32:54.125574Z"
    }
   },
   "outputs": [],
   "source": [
    "# temp.head()"
   ]
  },
  {
   "cell_type": "markdown",
   "metadata": {},
   "source": [
    "### Save Final Data for Convenience"
   ]
  },
  {
   "cell_type": "code",
   "execution_count": 21,
   "metadata": {
    "ExecuteTime": {
     "end_time": "2020-12-16T18:32:54.230330Z",
     "start_time": "2020-12-16T18:32:54.179432Z"
    }
   },
   "outputs": [],
   "source": [
    "data_path = '../data/interim/new/'\n",
    "train_df_pickle = 'ngv_training_model_ready.pkl'\n",
    "test_df_pickle = 'ngv_testing_model_ready.pkl'\n"
   ]
  },
  {
   "cell_type": "code",
   "execution_count": 22,
   "metadata": {
    "ExecuteTime": {
     "end_time": "2020-12-16T18:32:59.120385Z",
     "start_time": "2020-12-16T18:32:54.232290Z"
    }
   },
   "outputs": [],
   "source": [
    "# writing pickles\n",
    "train_df.to_pickle(data_path + train_df_pickle)\n",
    "test_df.to_pickle(data_path + test_df_pickle)"
   ]
  },
  {
   "cell_type": "code",
   "execution_count": 23,
   "metadata": {
    "ExecuteTime": {
     "end_time": "2020-12-16T18:32:59.172311Z",
     "start_time": "2020-12-16T18:32:59.121383Z"
    }
   },
   "outputs": [],
   "source": [
    "# loading pickles\n",
    "# train_df = pd.read_pickle(data_path + train_df_pickle)\n",
    "# test_df = pd.read_pickle(data_path + test_df_pickle)"
   ]
  },
  {
   "cell_type": "code",
   "execution_count": 24,
   "metadata": {
    "ExecuteTime": {
     "end_time": "2020-12-16T18:33:00.662624Z",
     "start_time": "2020-12-16T18:32:59.173243Z"
    }
   },
   "outputs": [],
   "source": [
    "y_train = train_df['isfraud'].values\n",
    "X_train = train_df.drop(['isfraud'], axis=1)\n",
    "X_test = test_df"
   ]
  },
  {
   "cell_type": "code",
   "execution_count": 25,
   "metadata": {
    "ExecuteTime": {
     "end_time": "2020-12-16T18:33:00.717370Z",
     "start_time": "2020-12-16T18:33:00.663442Z"
    }
   },
   "outputs": [
    {
     "data": {
      "text/plain": [
       "(590540, 440)"
      ]
     },
     "execution_count": 25,
     "metadata": {},
     "output_type": "execute_result"
    }
   ],
   "source": [
    "X_train.shape"
   ]
  },
  {
   "cell_type": "markdown",
   "metadata": {},
   "source": [
    "### Manually Drop Features Observed as Highly Correlated or Unimportant"
   ]
  },
  {
   "cell_type": "code",
   "execution_count": 26,
   "metadata": {
    "ExecuteTime": {
     "end_time": "2020-12-16T18:33:00.768199Z",
     "start_time": "2020-12-16T18:33:00.718333Z"
    }
   },
   "outputs": [],
   "source": [
    "not_model_cols = ['transactiondt']"
   ]
  },
  {
   "cell_type": "code",
   "execution_count": 27,
   "metadata": {
    "ExecuteTime": {
     "end_time": "2020-12-16T18:33:00.820225Z",
     "start_time": "2020-12-16T18:33:00.769200Z"
    }
   },
   "outputs": [],
   "source": [
    "unimportant_feats = ['v252', 'id_35', 'v175', 'v194', 'v121',\n",
    "                     'v173', 'v334', 'v196', 'v112', 'v141',\n",
    "                     'DeviceInfo_alpha_trunc', 'v111', 'id_17',\n",
    "                     'v138', 'v327', 'v240', 'id_31', 'id_26',\n",
    "                     'id_30', 'id_27', 'v113', 'v1', 'v269',\n",
    "                     'v122', 'v14', 'v41', 'v120', 'v142', 'v65',\n",
    "                     'card4', 'v117', 'v88', 'v118', 'addr2',\n",
    "                     'id_31_bin_many', 'v241', 'v89', 'v28',\n",
    "                     'v119', 'v325', 'id_24', 'v107', 'v68',\n",
    "                     'v305', 'id_14', 'id_22', 'v328', 'id_25',\n",
    "                     'id_30_name', 'id_33_ratio']"
   ]
  },
  {
   "cell_type": "code",
   "execution_count": 28,
   "metadata": {
    "ExecuteTime": {
     "end_time": "2020-12-16T18:33:00.872329Z",
     "start_time": "2020-12-16T18:33:00.821433Z"
    }
   },
   "outputs": [],
   "source": [
    "v_drops_95 = ['v10', 'v102', 'v106', 'v126', 'v127', 'v128',\n",
    "              'v132', 'v133', 'v134', 'v143', 'v144', 'v145',\n",
    "              'v148', 'v149', 'v15', 'v150', 'v151', 'v153',\n",
    "              'v155', 'v157', 'v162', 'v167', 'v168', 'v17',\n",
    "              'v177', 'v178', 'v179', 'v190', 'v191', 'v192',\n",
    "              'v193', 'v202', 'v203', 'v204', 'v21', 'v212',\n",
    "              'v213', 'v217', 'v218', 'v219', 'v221', 'v225',\n",
    "              'v231', 'v232', 'v233', 'v237', 'v242', 'v248',\n",
    "              'v249', 'v250', 'v254', 'v255', 'v266', 'v27',\n",
    "              'v271', 'v272', 'v279', 'v280', 'v29', 'v292',\n",
    "              'v294', 'v299', 'v302', 'v306', 'v307', 'v308',\n",
    "              'v31', 'v316', 'v317', 'v318', 'v324', 'v329',\n",
    "              'v33', 'v330', 'v331', 'v332', 'v333', 'v34',\n",
    "              'v42', 'v48',  'v51', 'v57', 'v59', 'v69',\n",
    "              'v71', 'v74',  'v80', 'v90', 'v92', 'v95',\n",
    "              'v96', 'v97']"
   ]
  },
  {
   "cell_type": "code",
   "execution_count": 29,
   "metadata": {
    "ExecuteTime": {
     "end_time": "2020-12-16T18:33:00.922321Z",
     "start_time": "2020-12-16T18:33:00.874292Z"
    }
   },
   "outputs": [],
   "source": [
    "all_drops = not_model_cols + unimportant_feats + v_drops_95"
   ]
  },
  {
   "cell_type": "code",
   "execution_count": 30,
   "metadata": {
    "ExecuteTime": {
     "end_time": "2020-12-16T18:33:02.413867Z",
     "start_time": "2020-12-16T18:33:00.923162Z"
    }
   },
   "outputs": [],
   "source": [
    "X_train = X_train.drop(all_drops, axis=1)\n",
    "X_test = X_test.drop(all_drops, axis=1)"
   ]
  },
  {
   "cell_type": "markdown",
   "metadata": {},
   "source": [
    "### Final Modeling and Results"
   ]
  },
  {
   "cell_type": "code",
   "execution_count": 31,
   "metadata": {
    "ExecuteTime": {
     "end_time": "2020-12-16T18:33:02.466294Z",
     "start_time": "2020-12-16T18:33:02.414867Z"
    }
   },
   "outputs": [],
   "source": [
    "params = {\n",
    "             'objective': 'binary',\n",
    "             'boosting': 'gbdt',\n",
    "             'n_jobs': -1,            \n",
    "             'learning_rate': 0.02,\n",
    "             'verbose': 0,\n",
    "             'num_leaves': 2**8,\n",
    "             'bagging_fraction': 0.95,\n",
    "             'bagging_freq': 1,\n",
    "             'bagging_seed': 1,\n",
    "             'feature_fraction': 0.9,\n",
    "             'feature_fraction_seed': 1,\n",
    "             'max_bin': 256,\n",
    "             'num_iterations': 100000,\n",
    "             'early_stopping_rounds': 100,\n",
    "             'metric': 'auc',\n",
    "             'seed': SEED\n",
    "    }\n",
    "feats = X_train.columns.to_list()\n",
    "cats = set(cat_feats).difference(set(all_drops))"
   ]
  },
  {
   "cell_type": "code",
   "execution_count": 32,
   "metadata": {
    "ExecuteTime": {
     "end_time": "2020-12-16T18:33:03.664026Z",
     "start_time": "2020-12-16T18:33:02.467026Z"
    }
   },
   "outputs": [],
   "source": [
    "X_tr, X_val, y_tr, y_val = train_test_split(X_train, y_train,\n",
    "                                            test_size = 0.2,\n",
    "                                            stratify = y_train,\n",
    "                                            random_state = SEED)"
   ]
  },
  {
   "cell_type": "code",
   "execution_count": 33,
   "metadata": {
    "ExecuteTime": {
     "end_time": "2020-12-16T18:33:03.714873Z",
     "start_time": "2020-12-16T18:33:03.664861Z"
    }
   },
   "outputs": [],
   "source": [
    "lgb_classifier = lgb.LGBMClassifier(**params)"
   ]
  },
  {
   "cell_type": "code",
   "execution_count": 34,
   "metadata": {
    "ExecuteTime": {
     "end_time": "2020-12-16T18:45:49.980049Z",
     "start_time": "2020-12-16T18:33:03.715726Z"
    }
   },
   "outputs": [
    {
     "name": "stderr",
     "output_type": "stream",
     "text": [
      "C:\\tools\\Anaconda3\\lib\\site-packages\\lightgbm\\engine.py:148: UserWarning: Found `num_iterations` in params. Will use it instead of argument\n",
      "  warnings.warn(\"Found `{}` in params. Will use it instead of argument\".format(alias))\n",
      "C:\\tools\\Anaconda3\\lib\\site-packages\\lightgbm\\engine.py:153: UserWarning: Found `early_stopping_rounds` in params. Will use it instead of argument\n",
      "  warnings.warn(\"Found `{}` in params. Will use it instead of argument\".format(alias))\n",
      "C:\\tools\\Anaconda3\\lib\\site-packages\\lightgbm\\basic.py:1247: UserWarning: categorical_feature in Dataset is overridden.\n",
      "New categorical_feature is ['DeviceInfo', 'DeviceInfo_trunc', 'addr1', 'card1', 'card2', 'card3', 'card5', 'card6', 'id_13', 'id_15', 'id_18', 'id_19', 'id_20', 'id_21', 'id_23', 'id_31_bin_few', 'id_32', 'id_33', 'id_33_prod', 'm4', 'p_emaildomain', 'productcd', 'r_emaildomain']\n",
      "  'New categorical_feature is {}'.format(sorted(list(categorical_feature))))\n"
     ]
    },
    {
     "name": "stdout",
     "output_type": "stream",
     "text": [
      "Training until validation scores don't improve for 100 rounds\n",
      "[100]\tvalid_0's auc: 0.951875\n",
      "[200]\tvalid_0's auc: 0.965052\n",
      "[300]\tvalid_0's auc: 0.970902\n",
      "[400]\tvalid_0's auc: 0.973706\n",
      "[500]\tvalid_0's auc: 0.975232\n",
      "[600]\tvalid_0's auc: 0.976178\n",
      "[700]\tvalid_0's auc: 0.976884\n",
      "[800]\tvalid_0's auc: 0.977269\n",
      "[900]\tvalid_0's auc: 0.977538\n",
      "[1000]\tvalid_0's auc: 0.977745\n",
      "[1100]\tvalid_0's auc: 0.977947\n",
      "[1200]\tvalid_0's auc: 0.978026\n",
      "[1300]\tvalid_0's auc: 0.97814\n",
      "[1400]\tvalid_0's auc: 0.978227\n",
      "[1500]\tvalid_0's auc: 0.978225\n",
      "Early stopping, best iteration is:\n",
      "[1474]\tvalid_0's auc: 0.978264\n"
     ]
    },
    {
     "data": {
      "text/plain": [
       "LGBMClassifier(bagging_fraction=0.95, bagging_freq=1, bagging_seed=1,\n",
       "               boosting='gbdt', early_stopping_rounds=100, feature_fraction=0.9,\n",
       "               feature_fraction_seed=1, learning_rate=0.02, max_bin=256,\n",
       "               metric='auc', num_iterations=100000, num_leaves=256,\n",
       "               objective='binary', seed=123, verbose=0)"
      ]
     },
     "execution_count": 34,
     "metadata": {},
     "output_type": "execute_result"
    }
   ],
   "source": [
    "lgb_classifier.fit(X = X_tr, y = y_tr,\n",
    "                   feature_name = feats, categorical_feature = cats,\n",
    "                   eval_set = [(X_val, y_val)], verbose = 100)"
   ]
  },
  {
   "cell_type": "code",
   "execution_count": 35,
   "metadata": {
    "ExecuteTime": {
     "end_time": "2020-12-16T18:45:51.755553Z",
     "start_time": "2020-12-16T18:45:49.981047Z"
    }
   },
   "outputs": [
    {
     "data": {
      "text/plain": [
       "['../data/new_mdl/ngv_lgb_model.pkl']"
      ]
     },
     "execution_count": 35,
     "metadata": {},
     "output_type": "execute_result"
    }
   ],
   "source": [
    "model_path = '../data/new_mdl/ngv_lgb_model.pkl'\n",
    "# save model\n",
    "joblib.dump(lgb_classifier, model_path)\n",
    "# load model\n",
    "#lgb_classifier = joblib.load(model_path)"
   ]
  },
  {
   "cell_type": "code",
   "execution_count": 36,
   "metadata": {
    "ExecuteTime": {
     "end_time": "2020-12-16T18:48:34.058058Z",
     "start_time": "2020-12-16T18:45:51.756502Z"
    }
   },
   "outputs": [],
   "source": [
    "y_tr_pred = lgb_classifier.predict(X_train, num_iteration=lgb_classifier.best_iteration_)\n",
    "y_tr_pred_proba = lgb_classifier.predict_proba(X_train, num_iteration=lgb_classifier.best_iteration_)"
   ]
  },
  {
   "cell_type": "code",
   "execution_count": 37,
   "metadata": {
    "ExecuteTime": {
     "end_time": "2020-12-16T18:50:53.609265Z",
     "start_time": "2020-12-16T18:48:34.059056Z"
    }
   },
   "outputs": [],
   "source": [
    "y_ts_pred = lgb_classifier.predict(X_test, num_iteration=lgb_classifier.best_iteration_)\n",
    "y_ts_pred_proba = lgb_classifier.predict_proba(X_test, num_iteration=lgb_classifier.best_iteration_)"
   ]
  },
  {
   "cell_type": "code",
   "execution_count": 38,
   "metadata": {
    "ExecuteTime": {
     "end_time": "2020-12-16T18:50:53.672568Z",
     "start_time": "2020-12-16T18:50:53.610437Z"
    }
   },
   "outputs": [
    {
     "data": {
      "text/html": [
       "<div>\n",
       "<style scoped>\n",
       "    .dataframe tbody tr th:only-of-type {\n",
       "        vertical-align: middle;\n",
       "    }\n",
       "\n",
       "    .dataframe tbody tr th {\n",
       "        vertical-align: top;\n",
       "    }\n",
       "\n",
       "    .dataframe thead th {\n",
       "        text-align: right;\n",
       "    }\n",
       "</style>\n",
       "<table border=\"1\" class=\"dataframe\">\n",
       "  <thead>\n",
       "    <tr style=\"text-align: right;\">\n",
       "      <th></th>\n",
       "      <th>notFraudProba</th>\n",
       "      <th>isFraudProba</th>\n",
       "      <th>Prediction</th>\n",
       "      <th>isFraud</th>\n",
       "    </tr>\n",
       "    <tr>\n",
       "      <th>transactionid</th>\n",
       "      <th></th>\n",
       "      <th></th>\n",
       "      <th></th>\n",
       "      <th></th>\n",
       "    </tr>\n",
       "  </thead>\n",
       "  <tbody>\n",
       "    <tr>\n",
       "      <th>2987000</th>\n",
       "      <td>0.995875</td>\n",
       "      <td>0.004125</td>\n",
       "      <td>0</td>\n",
       "      <td>0</td>\n",
       "    </tr>\n",
       "    <tr>\n",
       "      <th>2987001</th>\n",
       "      <td>0.999380</td>\n",
       "      <td>0.000620</td>\n",
       "      <td>0</td>\n",
       "      <td>0</td>\n",
       "    </tr>\n",
       "    <tr>\n",
       "      <th>2987002</th>\n",
       "      <td>0.999857</td>\n",
       "      <td>0.000143</td>\n",
       "      <td>0</td>\n",
       "      <td>0</td>\n",
       "    </tr>\n",
       "    <tr>\n",
       "      <th>2987003</th>\n",
       "      <td>0.999906</td>\n",
       "      <td>0.000094</td>\n",
       "      <td>0</td>\n",
       "      <td>0</td>\n",
       "    </tr>\n",
       "    <tr>\n",
       "      <th>2987004</th>\n",
       "      <td>0.999874</td>\n",
       "      <td>0.000126</td>\n",
       "      <td>0</td>\n",
       "      <td>0</td>\n",
       "    </tr>\n",
       "  </tbody>\n",
       "</table>\n",
       "</div>"
      ],
      "text/plain": [
       "               notFraudProba  isFraudProba  Prediction  isFraud\n",
       "transactionid                                                  \n",
       "2987000             0.995875      0.004125           0        0\n",
       "2987001             0.999380      0.000620           0        0\n",
       "2987002             0.999857      0.000143           0        0\n",
       "2987003             0.999906      0.000094           0        0\n",
       "2987004             0.999874      0.000126           0        0"
      ]
     },
     "execution_count": 38,
     "metadata": {},
     "output_type": "execute_result"
    }
   ],
   "source": [
    "training_preds = pd.DataFrame(y_tr_pred_proba, columns=['notFraudProba', 'isFraudProba'])\n",
    "training_preds['Prediction'] = pd.Series(y_tr_pred)\n",
    "training_preds.set_index(train_df.index, inplace=True)\n",
    "training_preds['isFraud'] = train_df['isfraud']\n",
    "training_preds.head()"
   ]
  },
  {
   "cell_type": "code",
   "execution_count": 39,
   "metadata": {
    "ExecuteTime": {
     "end_time": "2020-12-16T18:50:53.729523Z",
     "start_time": "2020-12-16T18:50:53.673554Z"
    }
   },
   "outputs": [
    {
     "data": {
      "text/html": [
       "<div>\n",
       "<style scoped>\n",
       "    .dataframe tbody tr th:only-of-type {\n",
       "        vertical-align: middle;\n",
       "    }\n",
       "\n",
       "    .dataframe tbody tr th {\n",
       "        vertical-align: top;\n",
       "    }\n",
       "\n",
       "    .dataframe thead th {\n",
       "        text-align: right;\n",
       "    }\n",
       "</style>\n",
       "<table border=\"1\" class=\"dataframe\">\n",
       "  <thead>\n",
       "    <tr style=\"text-align: right;\">\n",
       "      <th></th>\n",
       "      <th>notFraudProba</th>\n",
       "      <th>isFraudProba</th>\n",
       "      <th>Prediction</th>\n",
       "    </tr>\n",
       "    <tr>\n",
       "      <th>transactionid</th>\n",
       "      <th></th>\n",
       "      <th></th>\n",
       "      <th></th>\n",
       "    </tr>\n",
       "  </thead>\n",
       "  <tbody>\n",
       "    <tr>\n",
       "      <th>3663549</th>\n",
       "      <td>0.999994</td>\n",
       "      <td>0.000006</td>\n",
       "      <td>0</td>\n",
       "    </tr>\n",
       "    <tr>\n",
       "      <th>3663550</th>\n",
       "      <td>0.999807</td>\n",
       "      <td>0.000193</td>\n",
       "      <td>0</td>\n",
       "    </tr>\n",
       "    <tr>\n",
       "      <th>3663551</th>\n",
       "      <td>0.999982</td>\n",
       "      <td>0.000018</td>\n",
       "      <td>0</td>\n",
       "    </tr>\n",
       "    <tr>\n",
       "      <th>3663552</th>\n",
       "      <td>0.999991</td>\n",
       "      <td>0.000009</td>\n",
       "      <td>0</td>\n",
       "    </tr>\n",
       "    <tr>\n",
       "      <th>3663553</th>\n",
       "      <td>0.999881</td>\n",
       "      <td>0.000119</td>\n",
       "      <td>0</td>\n",
       "    </tr>\n",
       "  </tbody>\n",
       "</table>\n",
       "</div>"
      ],
      "text/plain": [
       "               notFraudProba  isFraudProba  Prediction\n",
       "transactionid                                         \n",
       "3663549             0.999994      0.000006           0\n",
       "3663550             0.999807      0.000193           0\n",
       "3663551             0.999982      0.000018           0\n",
       "3663552             0.999991      0.000009           0\n",
       "3663553             0.999881      0.000119           0"
      ]
     },
     "execution_count": 39,
     "metadata": {},
     "output_type": "execute_result"
    }
   ],
   "source": [
    "testing_preds = pd.DataFrame(y_ts_pred_proba, columns=['notFraudProba', 'isFraudProba'])\n",
    "testing_preds['Prediction'] = pd.Series(y_ts_pred)\n",
    "testing_preds.set_index(test_df.index, inplace=True)\n",
    "testing_preds.head()"
   ]
  },
  {
   "cell_type": "code",
   "execution_count": 40,
   "metadata": {
    "ExecuteTime": {
     "end_time": "2020-12-16T18:50:53.817336Z",
     "start_time": "2020-12-16T18:50:53.730520Z"
    }
   },
   "outputs": [
    {
     "data": {
      "text/html": [
       "<div>\n",
       "<style scoped>\n",
       "    .dataframe tbody tr th:only-of-type {\n",
       "        vertical-align: middle;\n",
       "    }\n",
       "\n",
       "    .dataframe tbody tr th {\n",
       "        vertical-align: top;\n",
       "    }\n",
       "\n",
       "    .dataframe thead th {\n",
       "        text-align: right;\n",
       "    }\n",
       "</style>\n",
       "<table border=\"1\" class=\"dataframe\">\n",
       "  <thead>\n",
       "    <tr style=\"text-align: right;\">\n",
       "      <th></th>\n",
       "      <th>isFraud</th>\n",
       "    </tr>\n",
       "    <tr>\n",
       "      <th>transactionid</th>\n",
       "      <th></th>\n",
       "    </tr>\n",
       "  </thead>\n",
       "  <tbody>\n",
       "    <tr>\n",
       "      <th>3663549</th>\n",
       "      <td>0.000006</td>\n",
       "    </tr>\n",
       "    <tr>\n",
       "      <th>3663550</th>\n",
       "      <td>0.000193</td>\n",
       "    </tr>\n",
       "    <tr>\n",
       "      <th>3663551</th>\n",
       "      <td>0.000018</td>\n",
       "    </tr>\n",
       "    <tr>\n",
       "      <th>3663552</th>\n",
       "      <td>0.000009</td>\n",
       "    </tr>\n",
       "    <tr>\n",
       "      <th>3663553</th>\n",
       "      <td>0.000119</td>\n",
       "    </tr>\n",
       "  </tbody>\n",
       "</table>\n",
       "</div>"
      ],
      "text/plain": [
       "                isFraud\n",
       "transactionid          \n",
       "3663549        0.000006\n",
       "3663550        0.000193\n",
       "3663551        0.000018\n",
       "3663552        0.000009\n",
       "3663553        0.000119"
      ]
     },
     "execution_count": 40,
     "metadata": {},
     "output_type": "execute_result"
    }
   ],
   "source": [
    "output = testing_preds[['isFraudProba']].round(10).copy()\n",
    "output.rename(columns={'isFraudProba': 'isFraud'}, inplace=True)\n",
    "output.head()"
   ]
  },
  {
   "cell_type": "code",
   "execution_count": 41,
   "metadata": {
    "ExecuteTime": {
     "end_time": "2020-12-16T18:50:54.991774Z",
     "start_time": "2020-12-16T18:50:53.818167Z"
    }
   },
   "outputs": [],
   "source": [
    "output.to_csv('../data/new_mdl/ngv_submission.csv')"
   ]
  },
  {
   "cell_type": "code",
   "execution_count": 42,
   "metadata": {
    "ExecuteTime": {
     "end_time": "2020-12-16T18:50:57.307993Z",
     "start_time": "2020-12-16T18:50:54.993094Z"
    }
   },
   "outputs": [
    {
     "name": "stdout",
     "output_type": "stream",
     "text": [
      "                      Train          Test\n",
      "Accuracy           0.997995  1.000000e+00\n",
      "Balanced_Accuracy  0.973355  1.000000e+00\n",
      "Precision          0.995624  1.000000e+00\n",
      "Recall             0.946862  1.000000e+00\n",
      "f1                 0.970631  1.000000e+00\n",
      "ROC_AUC            0.973355  1.000000e+00\n",
      "Brier_Loss         0.002005  0.000000e+00\n",
      "Log_Loss           0.069248  9.992007e-16\n",
      "Jaccard            0.942937  1.000000e+00\n",
      "[[498027      0]\n",
      " [     0   8664]]\n"
     ]
    }
   ],
   "source": [
    "# don't have actual y_test, so input it twice to allow the training scores to calculate\n",
    "score_classification(y_train, y_tr_pred, y_ts_pred, y_ts_pred)"
   ]
  },
  {
   "cell_type": "code",
   "execution_count": 43,
   "metadata": {
    "ExecuteTime": {
     "end_time": "2020-12-16T18:51:00.032367Z",
     "start_time": "2020-12-16T18:50:57.308991Z"
    }
   },
   "outputs": [
    {
     "data": {
      "image/png": "[encoded data removed]",
      "text/plain": [
       "<Figure size 1080x504 with 1 Axes>"
      ]
     },
     "metadata": {
      "needs_background": "light"
     },
     "output_type": "display_data"
    }
   ],
   "source": [
    "# Compute ROC curve and ROC area\n",
    "from sklearn.metrics import roc_curve, auc\n",
    "fpr, tpr, _ = roc_curve(training_preds['isFraud'], training_preds['Prediction'])\n",
    "roc_auc = auc(fpr, tpr)\n",
    "\n",
    "import matplotlib.pyplot as plt\n",
    "%matplotlib inline\n",
    "plt.figure(figsize=[15,7])\n",
    "lw = 2\n",
    "plt.plot(fpr, tpr, color='darkorange',\n",
    "         lw=lw, label='ROC curve (area = %0.2f)' % roc_auc)\n",
    "plt.plot([0, 1], [0, 1], color='navy', lw=lw, linestyle='--')\n",
    "plt.xlim([0.0, 1.0])\n",
    "plt.ylim([0.0, 1.05])\n",
    "plt.xlabel('False Positive Rate')\n",
    "plt.ylabel('True Positive Rate')\n",
    "plt.title('ROC')\n",
    "plt.legend(loc=\"lower right\")\n",
    "plt.show()"
   ]
  }
 ],
 "metadata": {
  "kernelspec": {
   "display_name": "Python 3",
   "language": "python",
   "name": "python3"
  },
  "language_info": {
   "codemirror_mode": {
    "name": "ipython",
    "version": 3
   },
   "file_extension": ".py",
   "mimetype": "text/x-python",
   "name": "python",
   "nbconvert_exporter": "python",
   "pygments_lexer": "ipython3",
   "version": "3.7.9"
  },
  "toc": {
   "base_numbering": 1,
   "nav_menu": {},
   "number_sections": true,
   "sideBar": true,
   "skip_h1_title": false,
   "title_cell": "Table of Contents",
   "title_sidebar": "Contents",
   "toc_cell": false,
   "toc_position": {},
   "toc_section_display": true,
   "toc_window_display": false
  },
  "toc-autonumbering": true,
  "varInspector": {
   "cols": {
    "lenName": 16,
    "lenType": 16,
    "lenVar": 40
   },
   "kernels_config": {
    "python": {
     "delete_cmd_postfix": "",
     "delete_cmd_prefix": "del ",
     "library": "var_list.py",
     "varRefreshCmd": "print(var_dic_list())"
    },
    "r": {
     "delete_cmd_postfix": ") ",
     "delete_cmd_prefix": "rm(",
     "library": "var_list.r",
     "varRefreshCmd": "cat(var_dic_list()) "
    }
   },
   "types_to_exclude": [
    "module",
    "function",
    "builtin_function_or_method",
    "instance",
    "_Feature"
   ],
   "window_display": false
  }
 },
 "nbformat": 4,
 "nbformat_minor": 4
}
